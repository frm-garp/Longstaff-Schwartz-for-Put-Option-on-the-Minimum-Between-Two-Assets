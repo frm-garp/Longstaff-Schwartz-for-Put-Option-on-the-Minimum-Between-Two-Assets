{
 "cells": [
  {
   "cell_type": "code",
   "execution_count": 1,
   "metadata": {},
   "outputs": [],
   "source": [
    "# pricing an American put option - Longstaff-Schwarz\n",
    "# option based on average price of two stocks \n",
    "\n",
    "import numpy as np \n",
    "import numpy.random as npr\n",
    "import matplotlib.pyplot as plt\n",
    "from scipy.stats import norm"
   ]
  },
  {
   "cell_type": "code",
   "execution_count": 2,
   "metadata": {},
   "outputs": [],
   "source": [
    "# parameters of the stocks and the option \n",
    "S10 = 40.0\n",
    "S20 = 40.0 \n",
    "K = 40.0 \n",
    "r = 0.06\n",
    "sigma1 = 0.4\n",
    "sigma2 = 0.2\n",
    "rho = -0.5 \n",
    "T = 2.0"
   ]
  },
  {
   "cell_type": "code",
   "execution_count": 3,
   "metadata": {},
   "outputs": [],
   "source": [
    "# numeric parameters - number of intervals, number of samples, random numbers \n",
    "N = 500\n",
    "h = T/N \n",
    "M = 50000"
   ]
  },
  {
   "cell_type": "code",
   "execution_count": 4,
   "metadata": {},
   "outputs": [],
   "source": [
    "S1 = S10*np.ones([M,N+1])\n",
    "S2 = S20*np.ones([M,N+1])\n",
    "S3 = S10*np.ones([M,N+1])\n",
    "Z1 = npr.randn(M,N)\n",
    "Z2 = npr.randn(M,N)\n",
    "b = 3                    # number of basis functions\n",
    "disc = np.exp(-r*h)      # one period discount factor "
   ]
  },
  {
   "cell_type": "code",
   "execution_count": 5,
   "metadata": {},
   "outputs": [],
   "source": [
    "# generate price paths using the GBM formula\n",
    "for n in range(0,N):       \n",
    "    S1[:,n+1]=S1[:,n]*np.exp((r-sigma1**2/2)*h+(Z1[:,n])                              *sigma1*np.sqrt(h))\n",
    "    S2[:,n+1]=S2[:,n]*np.exp((r-sigma2**2/2)*h+(rho*Z1[:,n]+np.sqrt(1-rho**2)*Z2[:,n])*sigma2*np.sqrt(h))\n"
   ]
  },
  {
   "cell_type": "code",
   "execution_count": 6,
   "metadata": {},
   "outputs": [],
   "source": [
    "for i in range(0,M): \n",
    "    for j in range(0,N+1):  \n",
    "        S3[i,j]=np.min([(S1[i,j],S2[i,j])])"
   ]
  },
  {
   "cell_type": "code",
   "execution_count": 7,
   "metadata": {},
   "outputs": [
    {
     "data": {
      "text/plain": [
       "(9.262132968881724, 42.55871420630111, 9.262132968881724)"
      ]
     },
     "execution_count": 7,
     "metadata": {},
     "output_type": "execute_result"
    }
   ],
   "source": [
    "S1[M-1,N], S2[M-1,N], S3[M-1,N]"
   ]
  },
  {
   "cell_type": "code",
   "execution_count": 8,
   "metadata": {},
   "outputs": [],
   "source": [
    "# exercise value\n",
    "def exer(SS):\n",
    "    return((K-SS)*(K>SS))\n",
    "\n",
    "# Basis functions\n",
    "def psi(i,SS):\n",
    "    if i==0:\n",
    "        return(1)\n",
    "    elif i==1:\n",
    "        return((1-SS/K))\n",
    "    elif i==2:\n",
    "        return((1-SS/K)**2)\n",
    "    elif i==3:\n",
    "        return((1-SS/K)**3)"
   ]
  },
  {
   "cell_type": "code",
   "execution_count": 9,
   "metadata": {},
   "outputs": [],
   "source": [
    "c = np.zeros([b,N+1])     # coefficients of continuation values\n",
    "MM = np.zeros([b,b])      # normalization matrix\n",
    "val = np.zeros([M,N+1])   # option values in simulation \n",
    "val[:,N] = exer(S3[:,N])   # option values at final time"
   ]
  },
  {
   "cell_type": "code",
   "execution_count": 10,
   "metadata": {},
   "outputs": [
    {
     "name": "stdout",
     "output_type": "stream",
     "text": [
      "price of the option is: 8.749, with a stochastic error of 0.02728\n"
     ]
    }
   ],
   "source": [
    "for k in range(N-1,0,-1):\n",
    "    sel = S3[:,k]<K\n",
    "    val[~sel,k] =  disc*val[~sel,k+1]\n",
    "    Ssel = S3[sel,k]\n",
    "    valsel = disc*val[sel,k+1]\n",
    "    for i in range(0,b):\n",
    "        c[i,k] = np.mean( valsel *  psi(i,Ssel))      # was called d in file \n",
    "        MM[i,i] = np.mean( psi(i,Ssel) *  psi(i,Ssel) )   \n",
    "        for j in range(i+1,b):\n",
    "            MM[i,j] = np.mean( psi(i,Ssel) *  psi(j,Ssel) ) \n",
    "            MM[j,i] = MM[i,j] \n",
    "    c[:,k] = np.linalg.solve(MM,c[:,k])\n",
    "    cont = np.zeros(Ssel.size)\n",
    "    for i in range(0,b):\n",
    "        cont = cont + c[i,k] * psi(i,Ssel)\n",
    "    val[sel,k] = exer(Ssel) * (exer(Ssel) > cont) + disc*val[sel,k+1] * (exer(Ssel) < cont)\n",
    "val[:,0] =  disc*val[:,1]\n",
    "V1=np.mean(val[:,0])\n",
    "e1=np.std(val[:,0])/np.sqrt(M)\n",
    "print(\"price of the option is: {:.3f}, with a stochastic error of {:.5f}\".format(V1,e1))"
   ]
  },
  {
   "cell_type": "code",
   "execution_count": 11,
   "metadata": {},
   "outputs": [
    {
     "name": "stdout",
     "output_type": "stream",
     "text": [
      "price of the option is: 8.728, with a stochastic error of 0.02729\n"
     ]
    }
   ],
   "source": [
    "# generate a further set of paths to get lower bound on option price \n",
    "M2 = 50000\n",
    "Sq1 = S10*np.ones([M2,N+1])\n",
    "Sq2 = S20*np.ones([M2,N+1])\n",
    "Sq3 = S10*np.ones([M2,N+1])\n",
    "Zq1 = npr.randn(M2,N)\n",
    "Zq2 = npr.randn(M2,N)\n",
    "for n in range(0,N):    \n",
    "    Sq1[:,n+1]=Sq1[:,n]*np.exp((r-sigma1**2/2)*h+(Zq1[:,n])*sigma1*np.sqrt(h))\n",
    "    Sq2[:,n+1]=Sq2[:,n]*np.exp((r-sigma2**2/2)*h+(rho*Zq1[:,n]+np.sqrt(1-rho**2)*Zq2[:,n])*sigma2*np.sqrt(h))  \n",
    "for i in range(0,M): \n",
    "    for j in range(0,N+1):  \n",
    "        Sq3[i,j]=np.min([(Sq1[i,j],Sq2[i,j])])\n",
    "val2 = np.zeros(M2)\n",
    "for n in range(1,N+1): \n",
    "    tem1 = exer( Sq3[:,n] )\n",
    "    tem2 = np.zeros(M2)\n",
    "    for i in range(0,b):\n",
    "        tem2 = tem2 + c[i,n] * psi(i,Sq3[:,n])\n",
    "    val2 = val2 + np.exp(-r*n*h)*(val2==0)*(tem1>tem2)*tem1\n",
    "V2=np.mean(val2)\n",
    "e2=np.std(val2)/np.sqrt(M2)\n",
    "print(\"price of the option is: {:.3f}, with a stochastic error of {:.5f}\".format(V2,e2))"
   ]
  }
 ],
 "metadata": {
  "kernelspec": {
   "display_name": "Python 3",
   "language": "python",
   "name": "python3"
  },
  "language_info": {
   "codemirror_mode": {
    "name": "ipython",
    "version": 3
   },
   "file_extension": ".py",
   "mimetype": "text/x-python",
   "name": "python",
   "nbconvert_exporter": "python",
   "pygments_lexer": "ipython3",
   "version": "3.7.4"
  }
 },
 "nbformat": 4,
 "nbformat_minor": 4
}
